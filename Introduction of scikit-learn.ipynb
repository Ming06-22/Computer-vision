{
 "cells": [
  {
   "cell_type": "markdown",
   "id": "4577df8f-bd64-476c-a2c3-cebcf58caed2",
   "metadata": {},
   "source": [
    "# What is scikit-learn?  "
   ]
  },
  {
   "cell_type": "markdown",
   "id": "00246bd0-a298-4b41-a3a8-e32d86d422df",
   "metadata": {},
   "source": [
    "Scikit-learn is a package of Python's machine learning tool-kit, it creates based on Numpy, Scipy, and Matplotlib.  \n",
    "\n",
    "Scikit-learn provide four main category of classic models -- classification, regression, clustering, and dimension reduction.  \n",
    "* The size of data is better to be larger than 50.  \n",
    "* If the data has label, use classification model.  \n",
    "* If the result need to predict value, use regression model.  \n",
    "* If want to know data distribution, use clustering model.  \n",
    "* If the data doesn't have label, use dimension reduction.  \n",
    "\n",
    "Document: [https://scikit-learn.org/stable/user_guide.html](https://scikit-learn.org/stable/user_guide.html)  "
   ]
  },
  {
   "cell_type": "markdown",
   "id": "ae4147b8-8b31-49c1-b7dc-4e4f8664675f",
   "metadata": {},
   "source": [
    "# Datasets"
   ]
  },
  {
   "cell_type": "markdown",
   "id": "0c994d4f-1906-4e9a-8de7-b5a99730d8e3",
   "metadata": {},
   "source": [
    "### 1. load toy datasets  \n",
    "\n",
    "Scikit-learn provides many kinds of buid-in datasets, we can use keys to see the content of the datasets.  \n",
    "\n",
    "* load_iris: iris dataset\n",
    "* load_diabetes: diabetes dataset\n",
    "* load_digits: hand-written digit dataset\n",
    "* load_linnerud: exercise and physiology dataset\n",
    "* load_wine: wine dataset\n",
    "* load_breast_cancer: Wisconsin's breast cancer dataset"
   ]
  },
  {
   "cell_type": "code",
   "execution_count": 1,
   "id": "6936b296-616f-4b92-be74-275cf1a0fa2a",
   "metadata": {},
   "outputs": [
    {
     "name": "stdout",
     "output_type": "stream",
     "text": [
      "dict_keys(['data', 'target', 'frame', 'target_names', 'DESCR', 'feature_names', 'filename', 'data_module'])\n",
      "['setosa' 'versicolor' 'virginica']\n",
      "['sepal length (cm)', 'sepal width (cm)', 'petal length (cm)', 'petal width (cm)']\n",
      "(150, 4)\n"
     ]
    }
   ],
   "source": [
    "from sklearn.datasets import load_iris\n",
    "\n",
    "data = load_iris()\n",
    "print(data.keys())\n",
    "print(data[\"target_names\"])\n",
    "print(data[\"feature_names\"])\n",
    "print(data[\"data\"].shape)"
   ]
  },
  {
   "cell_type": "markdown",
   "id": "47d193b6-4f15-421b-bdc9-6554e83b7f8c",
   "metadata": {},
   "source": [
    "### 2. fetch real world datasets  \n",
    "\n",
    "To the large scale datasets, scikit-learn provides another type of function to get the datasets.  \n",
    "\n",
    "* fetch_olivetti_faces: face images taken between April 1992 and April 1994 at AT&T Laboratories Cambridge\n",
    "* fetch_20newsgroups: around 18,000 newsgroups posts on 20 topics\n",
    "* fetch_20newsgroups_vectorized: verctorized data of around 18,000 newsgroups posts on 20 topics\n",
    "* fetch_lfw_people: collections of JPEG pictures of famous people collected over the internet \n",
    "* fetch_lfw_pairs: collections of JPEG pictures of pairs of famous people collected over the internet\n",
    "* fetch_covtype: forest covertypes correspond to 30mx30m patchs of forest in the US\n",
    "* fetch_rcv1: Reuters Corpus Volume I(RCV I) is an archive of over 800,000 manually categorized newswire stories made available.\n",
    "* fetch_kddcup99: tcpdump dataset\n",
    "* fetch_california_housing: California housing dataset"
   ]
  },
  {
   "cell_type": "code",
   "execution_count": 2,
   "id": "513fd41b-f1ee-4180-aba1-179ccd6b1d0d",
   "metadata": {
    "scrolled": true
   },
   "outputs": [
    {
     "name": "stdout",
     "output_type": "stream",
     "text": [
      "dict_keys(['data', 'images', 'target', 'DESCR'])\n",
      "[ 0  0  0  0  0  0  0  0  0  0  1  1  1  1  1  1  1  1  1  1  2  2  2  2\n",
      "  2  2  2  2  2  2  3  3  3  3  3  3  3  3  3  3  4  4  4  4  4  4  4  4\n",
      "  4  4  5  5  5  5  5  5  5  5  5  5  6  6  6  6  6  6  6  6  6  6  7  7\n",
      "  7  7  7  7  7  7  7  7  8  8  8  8  8  8  8  8  8  8  9  9  9  9  9  9\n",
      "  9  9  9  9 10 10 10 10 10 10 10 10 10 10 11 11 11 11 11 11 11 11 11 11\n",
      " 12 12 12 12 12 12 12 12 12 12 13 13 13 13 13 13 13 13 13 13 14 14 14 14\n",
      " 14 14 14 14 14 14 15 15 15 15 15 15 15 15 15 15 16 16 16 16 16 16 16 16\n",
      " 16 16 17 17 17 17 17 17 17 17 17 17 18 18 18 18 18 18 18 18 18 18 19 19\n",
      " 19 19 19 19 19 19 19 19 20 20 20 20 20 20 20 20 20 20 21 21 21 21 21 21\n",
      " 21 21 21 21 22 22 22 22 22 22 22 22 22 22 23 23 23 23 23 23 23 23 23 23\n",
      " 24 24 24 24 24 24 24 24 24 24 25 25 25 25 25 25 25 25 25 25 26 26 26 26\n",
      " 26 26 26 26 26 26 27 27 27 27 27 27 27 27 27 27 28 28 28 28 28 28 28 28\n",
      " 28 28 29 29 29 29 29 29 29 29 29 29 30 30 30 30 30 30 30 30 30 30 31 31\n",
      " 31 31 31 31 31 31 31 31 32 32 32 32 32 32 32 32 32 32 33 33 33 33 33 33\n",
      " 33 33 33 33 34 34 34 34 34 34 34 34 34 34 35 35 35 35 35 35 35 35 35 35\n",
      " 36 36 36 36 36 36 36 36 36 36 37 37 37 37 37 37 37 37 37 37 38 38 38 38\n",
      " 38 38 38 38 38 38 39 39 39 39 39 39 39 39 39 39]\n",
      "[[[0.30991736 0.3677686  0.41735536 ... 0.37190083 0.3305785  0.30578512]\n",
      "  [0.3429752  0.40495867 0.43801653 ... 0.37190083 0.338843   0.3140496 ]\n",
      "  [0.3429752  0.41735536 0.45041323 ... 0.38016528 0.338843   0.29752067]\n",
      "  ...\n",
      "  [0.21487603 0.20661157 0.2231405  ... 0.15289256 0.16528925 0.17355372]\n",
      "  [0.20247933 0.2107438  0.2107438  ... 0.14876033 0.16115703 0.16528925]\n",
      "  [0.20247933 0.20661157 0.20247933 ... 0.15289256 0.16115703 0.1570248 ]]\n",
      "\n",
      " [[0.45454547 0.47107437 0.5123967  ... 0.19008264 0.18595041 0.18595041]\n",
      "  [0.446281   0.48347107 0.5206612  ... 0.21487603 0.2107438  0.2107438 ]\n",
      "  [0.49586776 0.5165289  0.53305787 ... 0.20247933 0.20661157 0.20661157]\n",
      "  ...\n",
      "  [0.77272725 0.78099173 0.7933884  ... 0.1446281  0.1446281  0.1446281 ]\n",
      "  [0.77272725 0.7768595  0.7892562  ... 0.13636364 0.13636364 0.13636364]\n",
      "  [0.7644628  0.7892562  0.78099173 ... 0.15289256 0.15289256 0.15289256]]\n",
      "\n",
      " [[0.3181818  0.40082645 0.49173555 ... 0.40082645 0.3553719  0.30991736]\n",
      "  [0.30991736 0.3966942  0.47933885 ... 0.40495867 0.37603307 0.30165288]\n",
      "  [0.26859504 0.34710744 0.45454547 ... 0.3966942  0.37190083 0.30991736]\n",
      "  ...\n",
      "  [0.1322314  0.09917355 0.08264463 ... 0.13636364 0.14876033 0.15289256]\n",
      "  [0.11570248 0.09504132 0.0785124  ... 0.1446281  0.1446281  0.1570248 ]\n",
      "  [0.11157025 0.09090909 0.0785124  ... 0.14049587 0.14876033 0.15289256]]\n",
      "\n",
      " ...\n",
      "\n",
      " [[0.5        0.53305787 0.607438   ... 0.28512397 0.23966943 0.21487603]\n",
      "  [0.49173555 0.5413223  0.60330576 ... 0.29752067 0.20247933 0.20661157]\n",
      "  [0.46694216 0.55785125 0.6198347  ... 0.29752067 0.17768595 0.18595041]\n",
      "  ...\n",
      "  [0.03305785 0.46280992 0.5289256  ... 0.17355372 0.17355372 0.1694215 ]\n",
      "  [0.1570248  0.5247934  0.53305787 ... 0.16528925 0.1570248  0.18595041]\n",
      "  [0.45454547 0.5206612  0.53305787 ... 0.17768595 0.14876033 0.19008264]]\n",
      "\n",
      " [[0.21487603 0.21900827 0.21900827 ... 0.71487606 0.71487606 0.6942149 ]\n",
      "  [0.20247933 0.20661157 0.20661157 ... 0.7107438  0.7066116  0.6942149 ]\n",
      "  [0.2107438  0.20661157 0.20661157 ... 0.6859504  0.69008267 0.6942149 ]\n",
      "  ...\n",
      "  [0.2644628  0.25619835 0.2603306  ... 0.5413223  0.57438016 0.59090906]\n",
      "  [0.26859504 0.2644628  0.26859504 ... 0.56198347 0.58264464 0.59504133]\n",
      "  [0.27272728 0.26859504 0.27272728 ... 0.57438016 0.59090906 0.60330576]]\n",
      "\n",
      " [[0.5165289  0.46280992 0.28099173 ... 0.5785124  0.5413223  0.60330576]\n",
      "  [0.5165289  0.45041323 0.29338843 ... 0.58264464 0.553719   0.5785124 ]\n",
      "  [0.5165289  0.44214877 0.29338843 ... 0.59917355 0.5785124  0.54545456]\n",
      "  ...\n",
      "  [0.39256197 0.41322315 0.38842976 ... 0.33471075 0.37190083 0.3966942 ]\n",
      "  [0.39256197 0.38429752 0.40495867 ... 0.3305785  0.35950413 0.37603307]\n",
      "  [0.3677686  0.40495867 0.3966942  ... 0.35950413 0.3553719  0.38429752]]]\n",
      "(400, 4096)\n"
     ]
    }
   ],
   "source": [
    "from sklearn.datasets import fetch_olivetti_faces\n",
    "\n",
    "data = fetch_olivetti_faces()\n",
    "print(data.keys())\n",
    "print(data[\"target\"])\n",
    "print(data[\"images\"])\n",
    "print(data[\"data\"].shape)"
   ]
  },
  {
   "cell_type": "markdown",
   "id": "bd5130a8-06c1-4741-8e7d-a27e0bce0fc8",
   "metadata": {},
   "source": [
    "### 3. make datasets  \n",
    "\n",
    "Scikit-learn can also generate data by build-in function.  \n",
    "\n",
    "* Single label\n",
    "  - make_circles: produce Gaussian data with a spherical decision boundary for binary classification\n",
    "  - make_moon: produce two interleaving half circles\n",
    "  - make_blobs: provide greater control regarding the centers and standard deviations of each cluster, and is used to demonstrate clustering\n",
    "  - make_classification: specialize in introducing noise by way of: correlated, redundant and uninformative features; multiple Gaussian clusters per class; and linear transformations of the feature space\n",
    "  - make_gaussian_quantiles: divide a single Gaussian cluster into near-equal-size classes separated by concentric hyperspheres\n",
    "  - make_hastie_10_2: generate a similar binary, 10-dimensional problem\n",
    "* Multilabel\n",
    "  - make_multilabel_classification: generate random samples with multiple labels\n",
    "* Biclustering\n",
    "  - make_regression: produce regression targets as an optionally-sparse random linear combination of random features, with noise\n",
    "  - make_sparse_uncorrelated: produce a target as a linear combination of four features with fixed coefficients\n",
    "  - make_friedman1: related by polynomial and sine transforms\n",
    "  - make_friedman2: include feature multiplication and reciprocation\n",
    "  - make_friedman3: similar with an arctan transformation on the target\n",
    "* Generators for manifold learning\n",
    "  - make_s_curve: generate an S curve dataset\n",
    "  - make_swiss_roll: generate a swiss roll dataset\n",
    "* Generators for decomposition\n",
    "  - make_low_rank_matrix: generate a mostly low rank matrix with vell-shaped singular values\n",
    "  - make_sparse_coded_signal: generate s signal as a sparse combination of dictionary elements\n",
    "  - make_spd_matrix: generate a random symmetric, positive-definite matrix\n",
    "  - make_sparse_spd_matrix: generate a sparse symmetric definite positive matrix"
   ]
  },
  {
   "cell_type": "code",
   "execution_count": 5,
   "id": "b918f5f6-7dd7-452e-be4b-47f13d012c55",
   "metadata": {},
   "outputs": [
    {
     "data": {
      "text/plain": [
       "<matplotlib.collections.PathCollection at 0x1376f1280>"
      ]
     },
     "execution_count": 5,
     "metadata": {},
     "output_type": "execute_result"
    },
    {
     "data": {
      "image/png": "[encoded data removed]",
      "text/plain": [
       "<Figure size 640x480 with 1 Axes>"
      ]
     },
     "metadata": {},
     "output_type": "display_data"
    }
   ],
   "source": [
    "from sklearn.datasets import make_circles\n",
    "import matplotlib.pyplot as plt\n",
    "%matplotlib inline\n",
    "\n",
    "data = make_circles()[0]\n",
    "plt.scatter(data[:, 0], data[:, 1])"
   ]
  },
  {
   "cell_type": "markdown",
   "id": "03240976-65a2-4303-a283-00b8ea8d735d",
   "metadata": {},
   "source": [
    "# Classification"
   ]
  },
  {
   "cell_type": "markdown",
   "id": "5b3f63a7-0413-43c7-94dc-16a5b2076346",
   "metadata": {},
   "source": [
    "### 1. KNeighborsClassifier  \n",
    "\n",
    "Find most nearest k samples in the data and assign the most frequent category.\n",
    "\n",
    "* Pro: the model doesn't need to train\n",
    "* Con: the value of K need to assigned, and the algorithm time complexity is high\n",
    "\n",
    "Parameters:  \n",
    "* n_neighbors(int) (<font color=\"ff0000\">default = 5</font>)  \n",
    "&ensp;&ensp;number of neighbors to query neighbors  \n",
    "* weights(\"uniform\", \"distance\" or `user-defined function`) (<font color=\"ff0000\">default = \"uniform\"</font>)  \n",
    "  - \"uniform\": all points in each neighborshood are weighted equally  \n",
    "  - \"distance\": closer neighbors have greater influence  \n",
    "  - `user-defined function`: use a `user-defined function` to calculate the weight of each neighbors  \n",
    "* algorithm(\"ball_tree\", \"kd_tree\", \"brute\", or \"auto\") (<font color=\"ff0000\">default = \"auto\"</font>)  \n",
    "  - \"ball_tree\": use sklearn.neighbors.BallTree  \n",
    "  - \"kd_tree\": use sklearn.neighbors.KDTree  \n",
    "  - \"brute\": use a brute-force search  \n",
    "  - \"auto\": decide the most appropriate algorithm based on the values passed to fit method  \n",
    "* leaf_size(int) (<font color=\"ff0000\">default = 30</font>)  \n",
    "&ensp;&ensp;leaf size passed to BallTree or KDTree\n",
    "* p(float) (<font color=\"ff0000\">default = 2</font>)  \n",
    "&ensp;&ensp;power parameter for Minkowski metric  \n",
    "  - 1: use manhattan distance  \n",
    "  - 2: use minkowski distance  \n",
    "* metric(str or `user-defined function`) (<font color=\"ff0000\">default = \"minkowski\"</font>)  \n",
    "&ensp;&ensp;metric to use for distance computation  \n",
    "  - \"minkowski\": standard Euclidean distance  \n",
    "  - \"precomputed\": assumed to be a distance matrix and must be square during fit  \n",
    "  - use-defined function: takes two arrays representing 1D vectors as inputs and must return one value indicating the distance between those vectors  \n",
    "* metric_params(dict) (<font color=\"ff0000\">default = None</font>)  \n",
    "&ensp;&ensp;additional keyword argument for metric function\n",
    "* n_jobs(int)  (<font color=\"ff0000\">default = None</font>)  \n",
    "&ensp;&ensp;the number of parallel jobs to run for neighbors search\n",
    "  - None: means 1 unless in a joblib.parallel_backend context  \n",
    "  - -1: means using all processors  "
   ]
  },
  {
   "cell_type": "code",
   "execution_count": 6,
   "id": "2719b3de-1d84-42c0-9549-4cb83fa91f65",
   "metadata": {},
   "outputs": [
    {
     "name": "stdout",
     "output_type": "stream",
     "text": [
      "[0]\n",
      "[[0.66666667 0.33333333]]\n"
     ]
    }
   ],
   "source": [
    "from sklearn.neighbors import KNeighborsClassifier\n",
    "\n",
    "x = [[0], [1], [2], [3]]\n",
    "y = [0, 0, 1, 1]\n",
    "\n",
    "model = KNeighborsClassifier(n_neighbors = 3)\n",
    "model.fit(x, y)\n",
    "print(model.predict([[1.1]]))\n",
    "print(model.predict_proba([[0.9]]))"
   ]
  },
  {
   "cell_type": "markdown",
   "id": "ddfdb6d0-4572-46f5-b36d-c21640743e27",
   "metadata": {},
   "source": [
    "### 2. LogisticRegression\n",
    "\n",
    "A linear regression analysis model, find a line nearest to the sample.  \n",
    "\n",
    "* Pro: the model is simple, and we can use gradient descend to do incremental training  \n",
    "* Con: easily influence by noise  \n",
    "\n",
    "Parameters:  \n",
    "* penalty(None, \"l1\", \"l2\", or \"elasticent\") (<font color=\"ff0000\">default = \"l2\"</font>)  \n",
    "  - None: no penalty  \n",
    "  - l1: add a L1 penalty term  \n",
    "  - l2: add a L2 penalty term\n",
    "  - elasticent: both L1 and L2 penalty terms are added  \n",
    "* dual(bool) (<font color=\"ff0000\">default = False</font>)  \n",
    "&ensp;&ensp;dual or primal formulation  \n",
    "* tol(float) (<font color=\"ff0000\">default = 1e-4</font>)  \n",
    "&ensp;&ensp;tolerance for stopping criteria  \n",
    "* C(float) (<font color=\"ff0000\">default = 1.0</font>)  \n",
    "&ensp;&ensp;inverse of regularization strength <font color=\"007733\">(must be a positive float)</font> <font color=\"007733\">(smaller value -> stronger regularization)</font>  \n",
    "* fit_intercept(bool) (<font color=\"ff0000\">default = True</font>)  \n",
    "&ensp;&ensp;whether a constant should be added to the decision function  \n",
    "* intercept_scaling(float) (<font color=\"ff0000\">default = 1</font>)  \n",
    "&ensp;&ensp;useful when the `solver` \"liblinear\" is used and `self.fit_intercept` is set to <font color=\"ff0000\">True</font>. In this case, <font color=\"0000ff\">x</font> becomes <font color=\"0000ff\">[x, `self.intercept_scaling`]</font>  \n",
    "* class_weight(dict or \"balanced\") (<font color=\"ff0000\">default = None</font>)  \n",
    "  - None: all classes are supposed to have weight 1  \n",
    "  - dict: weights associated with classes in the form {<font color=\"0000ff\">class_label</font>: <font color=\"0000ff\">weight</font>}  \n",
    "  - balanced: `n_samples` / (`n_classes` * `np.bincount(y)`)  \n",
    "* random_state(int, RandomState instance) (<font color=\"ff0000\">default = None</font>)  \n",
    "&ensp;&ensp;If `solver` is \"sag\", \"saga\", or \"liblinear\", then shuffle the data.  \n",
    "* solver(\"lbfgs\", \"liblinear\", \"newton-cg\", \"newton-cholesky\", \"sag\", or \"saga\") (<font color=\"ff0000\">default = \"lbfgs\"</font>)  \n",
    "  - lbfgs: handle multinomial loss  \n",
    "  - liblinear: better for small datasets; limited to on-versus-rest schemes  \n",
    "  - newton-cg: handle multinomial loss\n",
    "  - newton-cholesky: better for `n_samples` >> `n_features`  \n",
    "  - sag: faster for large datasets; handle multinomial loss  \n",
    "  - saga: faster for large datasets; handle multinomial loss  \n",
    "* max_iter(int) (<font color=\"ff0000\">default = 100</font>)  \n",
    "&ensp;&ensp;naximum number of iterations taken for the `solvers` to converge  \n",
    "* multi_class(\"auto\", \"ovr\", or \"multinomial\") (<font color=\"ff0000\">default = \"auto\"</font>)  \n",
    "  - auto: select `ovr` if the data is binary or if the `solver` = \"liblinear\"; otherwise select \"multinomial\"  \n",
    "  - ovr: a binary problem is fot for each label  \n",
    "  - multinomial: the loss minimised is the multinomial loss fot across the entire probability distribution, even when the data is binary<font color=\"\">(`multinomial` is unavailable when `solver` = \"liblinear\")</font>  \n",
    "* verbose(int) (<font color=\"ff0000\">default: 0</font>)  \n",
    "  - for the \"liblinear\" and \"lbfga\" `solvers` set verbose to any positive number for verbosity  \n",
    "* warm_start(bool) (<font color=\"ff0000\">default = False</font>)  \n",
    "  - True: reuse the solution of the previois call to fit an initialization  \n",
    "  - False: just erase the previous solution  \n",
    "* n_jobs(int) (<font color=\"ff0000\">default = None</font>)  \n",
    "  - `multi_class` = \"ovr\": number of CPU used when parallelizing over classes  \n",
    "  - `solver` = \"liblinear\": ignored `n_jobs`  \n",
    "  - None: use 1 CPU  \n",
    "  - -1: use all processors  \n",
    "* l1_ratio(float) (<font color=\"ff0000\">default = None</font>)  \n",
    "  - `l1_ratio` = 0: `penalty` = \"l1\"  \n",
    "  - 0 < `l1_ratio` < 1: the penalty is a comination of \"l1\" and \"l2\"  \n",
    "  - `l1_ratio` = 1: `penalty` = \"l2\"  "
   ]
  },
  {
   "cell_type": "code",
   "execution_count": 13,
   "id": "960684ef-a76a-46a4-a464-417bce438e93",
   "metadata": {},
   "outputs": [
    {
     "name": "stdout",
     "output_type": "stream",
     "text": [
      "[0 0]\n",
      "[[9.81583498e-01 1.84164879e-02 1.44944143e-08]\n",
      " [9.71337522e-01 2.86624479e-02 3.01808128e-08]]\n",
      "0.9733333333333334\n"
     ]
    }
   ],
   "source": [
    "from sklearn.datasets import load_iris\n",
    "from sklearn.linear_model import LogisticRegression\n",
    "\n",
    "x, y = load_iris(return_X_y = True)\n",
    "model = LogisticRegression(max_iter = 500)\n",
    "model.fit(x, y)\n",
    "\n",
    "print(model.predict(x[: 2, :]))\n",
    "print(model.predict_proba(x[: 2, :]))\n",
    "print(model.score(x, y))"
   ]
  }
 ],
 "metadata": {
  "kernelspec": {
   "display_name": "Python 3 (ipykernel)",
   "language": "python",
   "name": "python3"
  },
  "language_info": {
   "codemirror_mode": {
    "name": "ipython",
    "version": 3
   },
   "file_extension": ".py",
   "mimetype": "text/x-python",
   "name": "python",
   "nbconvert_exporter": "python",
   "pygments_lexer": "ipython3",
   "version": "3.9.18"
  }
 },
 "nbformat": 4,
 "nbformat_minor": 5
}
