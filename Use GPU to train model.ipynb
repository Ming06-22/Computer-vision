{
 "cells": [
  {
   "cell_type": "markdown",
   "id": "ca085c8d-fda5-4f96-b3d1-b20d0c717c56",
   "metadata": {},
   "source": [
    "# Using GPU when trainig model on apple silicon"
   ]
  },
  {
   "cell_type": "markdown",
   "id": "4fd854b3-b57f-4d47-b295-59633fd20a98",
   "metadata": {},
   "source": [
    "## Installation"
   ]
  },
  {
   "cell_type": "markdown",
   "id": "7d57a626-e5da-4e95-8a6c-37e33c401700",
   "metadata": {},
   "source": [
    "### Step1: install packages"
   ]
  },
  {
   "cell_type": "code",
   "execution_count": 1,
   "id": "39dda80d-6b6b-440c-b416-91b80562f294",
   "metadata": {
    "scrolled": true
   },
   "outputs": [
    {
     "name": "stdout",
     "output_type": "stream",
     "text": [
      "Requirement already satisfied: tensorflow-macos in /opt/homebrew/anaconda3/envs/tensorflow/lib/python3.9/site-packages (2.15.0)\n",
      "Requirement already satisfied: absl-py>=1.0.0 in /opt/homebrew/anaconda3/envs/tensorflow/lib/python3.9/site-packages (from tensorflow-macos) (2.0.0)\n",
      "Requirement already satisfied: astunparse>=1.6.0 in /opt/homebrew/anaconda3/envs/tensorflow/lib/python3.9/site-packages (from tensorflow-macos) (1.6.3)\n",
      "Requirement already satisfied: flatbuffers>=23.5.26 in /opt/homebrew/anaconda3/envs/tensorflow/lib/python3.9/site-packages (from tensorflow-macos) (23.5.26)\n",
      "Requirement already satisfied: gast!=0.5.0,!=0.5.1,!=0.5.2,>=0.2.1 in /opt/homebrew/anaconda3/envs/tensorflow/lib/python3.9/site-packages (from tensorflow-macos) (0.5.4)\n",
      "Requirement already satisfied: google-pasta>=0.1.1 in /opt/homebrew/anaconda3/envs/tensorflow/lib/python3.9/site-packages (from tensorflow-macos) (0.2.0)\n",
      "Requirement already satisfied: h5py>=2.9.0 in /opt/homebrew/anaconda3/envs/tensorflow/lib/python3.9/site-packages (from tensorflow-macos) (3.10.0)\n",
      "Requirement already satisfied: libclang>=13.0.0 in /opt/homebrew/anaconda3/envs/tensorflow/lib/python3.9/site-packages (from tensorflow-macos) (16.0.6)\n",
      "Requirement already satisfied: ml-dtypes~=0.2.0 in /opt/homebrew/anaconda3/envs/tensorflow/lib/python3.9/site-packages (from tensorflow-macos) (0.2.0)\n",
      "Requirement already satisfied: numpy<2.0.0,>=1.23.5 in /opt/homebrew/anaconda3/envs/tensorflow/lib/python3.9/site-packages (from tensorflow-macos) (1.26.2)\n",
      "Requirement already satisfied: opt-einsum>=2.3.2 in /opt/homebrew/anaconda3/envs/tensorflow/lib/python3.9/site-packages (from tensorflow-macos) (3.3.0)\n",
      "Requirement already satisfied: packaging in /opt/homebrew/anaconda3/envs/tensorflow/lib/python3.9/site-packages (from tensorflow-macos) (23.1)\n",
      "Requirement already satisfied: protobuf!=4.21.0,!=4.21.1,!=4.21.2,!=4.21.3,!=4.21.4,!=4.21.5,<5.0.0dev,>=3.20.3 in /opt/homebrew/anaconda3/envs/tensorflow/lib/python3.9/site-packages (from tensorflow-macos) (4.23.4)\n",
      "Requirement already satisfied: setuptools in /opt/homebrew/anaconda3/envs/tensorflow/lib/python3.9/site-packages (from tensorflow-macos) (68.2.2)\n",
      "Requirement already satisfied: six>=1.12.0 in /opt/homebrew/anaconda3/envs/tensorflow/lib/python3.9/site-packages (from tensorflow-macos) (1.16.0)\n",
      "Requirement already satisfied: termcolor>=1.1.0 in /opt/homebrew/anaconda3/envs/tensorflow/lib/python3.9/site-packages (from tensorflow-macos) (2.4.0)\n",
      "Requirement already satisfied: typing-extensions>=3.6.6 in /opt/homebrew/anaconda3/envs/tensorflow/lib/python3.9/site-packages (from tensorflow-macos) (4.7.1)\n",
      "Requirement already satisfied: wrapt<1.15,>=1.11.0 in /opt/homebrew/anaconda3/envs/tensorflow/lib/python3.9/site-packages (from tensorflow-macos) (1.14.1)\n",
      "Requirement already satisfied: tensorflow-io-gcs-filesystem>=0.23.1 in /opt/homebrew/anaconda3/envs/tensorflow/lib/python3.9/site-packages (from tensorflow-macos) (0.34.0)\n",
      "Requirement already satisfied: grpcio<2.0,>=1.24.3 in /opt/homebrew/anaconda3/envs/tensorflow/lib/python3.9/site-packages (from tensorflow-macos) (1.60.0)\n",
      "Requirement already satisfied: tensorboard<2.16,>=2.15 in /opt/homebrew/anaconda3/envs/tensorflow/lib/python3.9/site-packages (from tensorflow-macos) (2.15.1)\n",
      "Requirement already satisfied: tensorflow-estimator<2.16,>=2.15.0 in /opt/homebrew/anaconda3/envs/tensorflow/lib/python3.9/site-packages (from tensorflow-macos) (2.15.0)\n",
      "Requirement already satisfied: keras<2.16,>=2.15.0 in /opt/homebrew/anaconda3/envs/tensorflow/lib/python3.9/site-packages (from tensorflow-macos) (2.15.0)\n",
      "Requirement already satisfied: wheel<1.0,>=0.23.0 in /opt/homebrew/anaconda3/envs/tensorflow/lib/python3.9/site-packages (from astunparse>=1.6.0->tensorflow-macos) (0.41.2)\n",
      "Requirement already satisfied: google-auth<3,>=1.6.3 in /opt/homebrew/anaconda3/envs/tensorflow/lib/python3.9/site-packages (from tensorboard<2.16,>=2.15->tensorflow-macos) (2.25.2)\n",
      "Requirement already satisfied: google-auth-oauthlib<2,>=0.5 in /opt/homebrew/anaconda3/envs/tensorflow/lib/python3.9/site-packages (from tensorboard<2.16,>=2.15->tensorflow-macos) (1.2.0)\n",
      "Requirement already satisfied: markdown>=2.6.8 in /opt/homebrew/anaconda3/envs/tensorflow/lib/python3.9/site-packages (from tensorboard<2.16,>=2.15->tensorflow-macos) (3.5.1)\n",
      "Requirement already satisfied: requests<3,>=2.21.0 in /opt/homebrew/anaconda3/envs/tensorflow/lib/python3.9/site-packages (from tensorboard<2.16,>=2.15->tensorflow-macos) (2.31.0)\n",
      "Requirement already satisfied: tensorboard-data-server<0.8.0,>=0.7.0 in /opt/homebrew/anaconda3/envs/tensorflow/lib/python3.9/site-packages (from tensorboard<2.16,>=2.15->tensorflow-macos) (0.7.2)\n",
      "Requirement already satisfied: werkzeug>=1.0.1 in /opt/homebrew/anaconda3/envs/tensorflow/lib/python3.9/site-packages (from tensorboard<2.16,>=2.15->tensorflow-macos) (3.0.1)\n",
      "Requirement already satisfied: cachetools<6.0,>=2.0.0 in /opt/homebrew/anaconda3/envs/tensorflow/lib/python3.9/site-packages (from google-auth<3,>=1.6.3->tensorboard<2.16,>=2.15->tensorflow-macos) (5.3.2)\n",
      "Requirement already satisfied: pyasn1-modules>=0.2.1 in /opt/homebrew/anaconda3/envs/tensorflow/lib/python3.9/site-packages (from google-auth<3,>=1.6.3->tensorboard<2.16,>=2.15->tensorflow-macos) (0.3.0)\n",
      "Requirement already satisfied: rsa<5,>=3.1.4 in /opt/homebrew/anaconda3/envs/tensorflow/lib/python3.9/site-packages (from google-auth<3,>=1.6.3->tensorboard<2.16,>=2.15->tensorflow-macos) (4.9)\n",
      "Requirement already satisfied: requests-oauthlib>=0.7.0 in /opt/homebrew/anaconda3/envs/tensorflow/lib/python3.9/site-packages (from google-auth-oauthlib<2,>=0.5->tensorboard<2.16,>=2.15->tensorflow-macos) (1.3.1)\n",
      "Requirement already satisfied: importlib-metadata>=4.4 in /opt/homebrew/anaconda3/envs/tensorflow/lib/python3.9/site-packages (from markdown>=2.6.8->tensorboard<2.16,>=2.15->tensorflow-macos) (6.0.0)\n",
      "Requirement already satisfied: charset-normalizer<4,>=2 in /opt/homebrew/anaconda3/envs/tensorflow/lib/python3.9/site-packages (from requests<3,>=2.21.0->tensorboard<2.16,>=2.15->tensorflow-macos) (2.0.4)\n",
      "Requirement already satisfied: idna<4,>=2.5 in /opt/homebrew/anaconda3/envs/tensorflow/lib/python3.9/site-packages (from requests<3,>=2.21.0->tensorboard<2.16,>=2.15->tensorflow-macos) (3.4)\n",
      "Requirement already satisfied: urllib3<3,>=1.21.1 in /opt/homebrew/anaconda3/envs/tensorflow/lib/python3.9/site-packages (from requests<3,>=2.21.0->tensorboard<2.16,>=2.15->tensorflow-macos) (1.26.18)\n",
      "Requirement already satisfied: certifi>=2017.4.17 in /opt/homebrew/anaconda3/envs/tensorflow/lib/python3.9/site-packages (from requests<3,>=2.21.0->tensorboard<2.16,>=2.15->tensorflow-macos) (2023.11.17)\n",
      "Requirement already satisfied: MarkupSafe>=2.1.1 in /opt/homebrew/anaconda3/envs/tensorflow/lib/python3.9/site-packages (from werkzeug>=1.0.1->tensorboard<2.16,>=2.15->tensorflow-macos) (2.1.1)\n",
      "Requirement already satisfied: zipp>=0.5 in /opt/homebrew/anaconda3/envs/tensorflow/lib/python3.9/site-packages (from importlib-metadata>=4.4->markdown>=2.6.8->tensorboard<2.16,>=2.15->tensorflow-macos) (3.11.0)\n",
      "Requirement already satisfied: pyasn1<0.6.0,>=0.4.6 in /opt/homebrew/anaconda3/envs/tensorflow/lib/python3.9/site-packages (from pyasn1-modules>=0.2.1->google-auth<3,>=1.6.3->tensorboard<2.16,>=2.15->tensorflow-macos) (0.5.1)\n",
      "Requirement already satisfied: oauthlib>=3.0.0 in /opt/homebrew/anaconda3/envs/tensorflow/lib/python3.9/site-packages (from requests-oauthlib>=0.7.0->google-auth-oauthlib<2,>=0.5->tensorboard<2.16,>=2.15->tensorflow-macos) (3.2.2)\n",
      "Requirement already satisfied: tensorflow-metal in /opt/homebrew/anaconda3/envs/tensorflow/lib/python3.9/site-packages (1.1.0)\n",
      "Requirement already satisfied: wheel~=0.35 in /opt/homebrew/anaconda3/envs/tensorflow/lib/python3.9/site-packages (from tensorflow-metal) (0.41.2)\n",
      "Requirement already satisfied: six>=1.15.0 in /opt/homebrew/anaconda3/envs/tensorflow/lib/python3.9/site-packages (from tensorflow-metal) (1.16.0)\n"
     ]
    }
   ],
   "source": [
    "! pip install tensorflow-macos\n",
    "! pip install tensorflow-metal"
   ]
  },
  {
   "cell_type": "markdown",
   "id": "bd4cabde-2bc4-4a79-aec1-c8c4270c6165",
   "metadata": {},
   "source": [
    "### Step2: upgrade some packages"
   ]
  },
  {
   "cell_type": "code",
   "execution_count": 2,
   "id": "a0aeeb4e-48de-448a-94bd-5a8f9501709b",
   "metadata": {
    "scrolled": true
   },
   "outputs": [
    {
     "name": "stdout",
     "output_type": "stream",
     "text": [
      "Requirement already satisfied: numpy in /opt/homebrew/anaconda3/envs/tensorflow/lib/python3.9/site-packages (1.26.2)\n",
      "Collecting numpy\n",
      "  Downloading numpy-1.26.3-cp39-cp39-macosx_11_0_arm64.whl.metadata (61 kB)\n",
      "\u001b[2K     \u001b[90m━━━━━━━━━━━━━━━━━━━━━━━━━━━━━━━━━━━━━━━\u001b[0m \u001b[32m61.2/61.2 kB\u001b[0m \u001b[31m862.9 kB/s\u001b[0m eta \u001b[36m0:00:00\u001b[0m \u001b[36m0:00:01\u001b[0m\n",
      "\u001b[?25hDownloading numpy-1.26.3-cp39-cp39-macosx_11_0_arm64.whl (14.0 MB)\n",
      "\u001b[2K   \u001b[90m━━━━━━━━━━━━━━━━━━━━━━━━━━━━━━━━━━━━━━━━\u001b[0m \u001b[32m14.0/14.0 MB\u001b[0m \u001b[31m42.8 MB/s\u001b[0m eta \u001b[36m0:00:00\u001b[0ma \u001b[36m0:00:01\u001b[0m\n",
      "\u001b[?25hInstalling collected packages: numpy\n",
      "  Attempting uninstall: numpy\n",
      "    Found existing installation: numpy 1.26.2\n",
      "    Uninstalling numpy-1.26.2:\n",
      "      Successfully uninstalled numpy-1.26.2\n",
      "Successfully installed numpy-1.26.3\n",
      "Requirement already satisfied: pandas in /opt/homebrew/anaconda3/envs/tensorflow/lib/python3.9/site-packages (2.1.4)\n",
      "Requirement already satisfied: numpy<2,>=1.22.4 in /opt/homebrew/anaconda3/envs/tensorflow/lib/python3.9/site-packages (from pandas) (1.26.3)\n",
      "Requirement already satisfied: python-dateutil>=2.8.2 in /opt/homebrew/anaconda3/envs/tensorflow/lib/python3.9/site-packages (from pandas) (2.8.2)\n",
      "Requirement already satisfied: pytz>=2020.1 in /opt/homebrew/anaconda3/envs/tensorflow/lib/python3.9/site-packages (from pandas) (2023.3.post1)\n",
      "Requirement already satisfied: tzdata>=2022.1 in /opt/homebrew/anaconda3/envs/tensorflow/lib/python3.9/site-packages (from pandas) (2023.3)\n",
      "Requirement already satisfied: six>=1.5 in /opt/homebrew/anaconda3/envs/tensorflow/lib/python3.9/site-packages (from python-dateutil>=2.8.2->pandas) (1.16.0)\n",
      "Requirement already satisfied: matplotlib in /opt/homebrew/anaconda3/envs/tensorflow/lib/python3.9/site-packages (3.8.2)\n",
      "Requirement already satisfied: contourpy>=1.0.1 in /opt/homebrew/anaconda3/envs/tensorflow/lib/python3.9/site-packages (from matplotlib) (1.2.0)\n",
      "Requirement already satisfied: cycler>=0.10 in /opt/homebrew/anaconda3/envs/tensorflow/lib/python3.9/site-packages (from matplotlib) (0.12.1)\n",
      "Requirement already satisfied: fonttools>=4.22.0 in /opt/homebrew/anaconda3/envs/tensorflow/lib/python3.9/site-packages (from matplotlib) (4.47.0)\n",
      "Requirement already satisfied: kiwisolver>=1.3.1 in /opt/homebrew/anaconda3/envs/tensorflow/lib/python3.9/site-packages (from matplotlib) (1.4.5)\n",
      "Requirement already satisfied: numpy<2,>=1.21 in /opt/homebrew/anaconda3/envs/tensorflow/lib/python3.9/site-packages (from matplotlib) (1.26.3)\n",
      "Requirement already satisfied: packaging>=20.0 in /opt/homebrew/anaconda3/envs/tensorflow/lib/python3.9/site-packages (from matplotlib) (23.1)\n",
      "Requirement already satisfied: pillow>=8 in /opt/homebrew/anaconda3/envs/tensorflow/lib/python3.9/site-packages (from matplotlib) (10.1.0)\n",
      "Requirement already satisfied: pyparsing>=2.3.1 in /opt/homebrew/anaconda3/envs/tensorflow/lib/python3.9/site-packages (from matplotlib) (3.1.1)\n",
      "Requirement already satisfied: python-dateutil>=2.7 in /opt/homebrew/anaconda3/envs/tensorflow/lib/python3.9/site-packages (from matplotlib) (2.8.2)\n",
      "Requirement already satisfied: importlib-resources>=3.2.0 in /opt/homebrew/anaconda3/envs/tensorflow/lib/python3.9/site-packages (from matplotlib) (6.1.1)\n",
      "Requirement already satisfied: zipp>=3.1.0 in /opt/homebrew/anaconda3/envs/tensorflow/lib/python3.9/site-packages (from importlib-resources>=3.2.0->matplotlib) (3.11.0)\n",
      "Requirement already satisfied: six>=1.5 in /opt/homebrew/anaconda3/envs/tensorflow/lib/python3.9/site-packages (from python-dateutil>=2.7->matplotlib) (1.16.0)\n",
      "Requirement already satisfied: scikit-learn in /opt/homebrew/anaconda3/envs/tensorflow/lib/python3.9/site-packages (1.3.2)\n",
      "Requirement already satisfied: numpy<2.0,>=1.17.3 in /opt/homebrew/anaconda3/envs/tensorflow/lib/python3.9/site-packages (from scikit-learn) (1.26.3)\n",
      "Requirement already satisfied: scipy>=1.5.0 in /opt/homebrew/anaconda3/envs/tensorflow/lib/python3.9/site-packages (from scikit-learn) (1.11.4)\n",
      "Requirement already satisfied: joblib>=1.1.1 in /opt/homebrew/anaconda3/envs/tensorflow/lib/python3.9/site-packages (from scikit-learn) (1.3.2)\n",
      "Requirement already satisfied: threadpoolctl>=2.0.0 in /opt/homebrew/anaconda3/envs/tensorflow/lib/python3.9/site-packages (from scikit-learn) (3.2.0)\n",
      "Requirement already satisfied: scipy in /opt/homebrew/anaconda3/envs/tensorflow/lib/python3.9/site-packages (1.11.4)\n",
      "Requirement already satisfied: numpy<1.28.0,>=1.21.6 in /opt/homebrew/anaconda3/envs/tensorflow/lib/python3.9/site-packages (from scipy) (1.26.3)\n",
      "Requirement already satisfied: plotly in /opt/homebrew/anaconda3/envs/tensorflow/lib/python3.9/site-packages (5.18.0)\n",
      "Requirement already satisfied: tenacity>=6.2.0 in /opt/homebrew/anaconda3/envs/tensorflow/lib/python3.9/site-packages (from plotly) (8.2.3)\n",
      "Requirement already satisfied: packaging in /opt/homebrew/anaconda3/envs/tensorflow/lib/python3.9/site-packages (from plotly) (23.1)\n"
     ]
    }
   ],
   "source": [
    "! pip install numpy --upgrade\n",
    "! pip install pandas --upgrade\n",
    "! pip install matplotlib --upgrade\n",
    "! pip install scikit-learn --upgrade\n",
    "! pip install scipy --upgrade\n",
    "! pip install plotly --upgrade"
   ]
  },
  {
   "cell_type": "markdown",
   "id": "29db9c4c-23f4-43fa-bc33-4a2b99ce864f",
   "metadata": {},
   "source": [
    "## Pytorch  \n",
    "\n",
    "Check whether GPU is available, if it is then set GPU to train, otherwise set CPU to train."
   ]
  },
  {
   "cell_type": "markdown",
   "id": "0700a1df-51b2-40a0-86c8-02f591c2c674",
   "metadata": {},
   "source": [
    "> Mac for Apple silicon"
   ]
  },
  {
   "cell_type": "code",
   "execution_count": 3,
   "id": "fed02e9e-87a1-47ae-86aa-6f6c5829fd55",
   "metadata": {},
   "outputs": [],
   "source": [
    "import torch\n",
    "from torchvision.models import resnet50\n",
    "\n",
    "device = torch.device(\"mps\" if torch.backends.mps.is_available() else \"cpu\")\n",
    "model = resnet50().to(device)"
   ]
  },
  {
   "cell_type": "markdown",
   "id": "8037b5d2-13d6-46a0-9c5d-e68b54e08b7a",
   "metadata": {},
   "source": [
    "> Windows"
   ]
  },
  {
   "cell_type": "code",
   "execution_count": 4,
   "id": "fe1ced02-924b-4442-96e4-601b9b173342",
   "metadata": {},
   "outputs": [],
   "source": [
    "device = torch.device(\"cuda: 0\" if torch.cuda.is_available() else \"cpu\")\n",
    "model = resnet50().to(device)"
   ]
  },
  {
   "cell_type": "markdown",
   "id": "e8a5ecd9-2f51-4530-9c10-e8e640cb079b",
   "metadata": {},
   "source": [
    "## Tensorflow"
   ]
  },
  {
   "cell_type": "markdown",
   "id": "30712079-80dd-4fcb-a369-491f5bbf18b8",
   "metadata": {},
   "source": [
    "### Step1: check whether GPU is available"
   ]
  },
  {
   "cell_type": "code",
   "execution_count": 5,
   "id": "6b5f04e8-f889-49f9-b5df-d865b3627398",
   "metadata": {},
   "outputs": [
    {
     "data": {
      "text/plain": [
       "[PhysicalDevice(name='/physical_device:GPU:0', device_type='GPU')]"
      ]
     },
     "execution_count": 5,
     "metadata": {},
     "output_type": "execute_result"
    }
   ],
   "source": [
    "import tensorflow as tf\n",
    "\n",
    "tf.config.list_physical_devices(\"GPU\")"
   ]
  },
  {
   "cell_type": "markdown",
   "id": "89456549-c905-4865-a2d8-1b8b3a3fb5cc",
   "metadata": {},
   "source": [
    "### Step2: set GPU resource usage dynamic grow to guarantee GPU use efficiently"
   ]
  },
  {
   "cell_type": "code",
   "execution_count": 6,
   "id": "7bc96ffa-0df4-4c69-b9d7-c43f3c1152d3",
   "metadata": {},
   "outputs": [
    {
     "name": "stderr",
     "output_type": "stream",
     "text": [
      "2024-01-07 23:52:55.259946: I metal_plugin/src/device/metal_device.cc:1154] Metal device set to: Apple M2\n",
      "2024-01-07 23:52:55.259965: I metal_plugin/src/device/metal_device.cc:296] systemMemory: 16.00 GB\n",
      "2024-01-07 23:52:55.259968: I metal_plugin/src/device/metal_device.cc:313] maxCacheSize: 5.33 GB\n",
      "2024-01-07 23:52:55.260267: I tensorflow/core/common_runtime/pluggable_device/pluggable_device_factory.cc:306] Could not identify NUMA node of platform GPU ID 0, defaulting to 0. Your kernel may not have been built with NUMA support.\n",
      "2024-01-07 23:52:55.260560: I tensorflow/core/common_runtime/pluggable_device/pluggable_device_factory.cc:272] Created TensorFlow device (/job:localhost/replica:0/task:0/device:GPU:0 with 0 MB memory) -> physical PluggableDevice (device: 0, name: METAL, pci bus id: <undefined>)\n"
     ]
    },
    {
     "data": {
      "text/plain": [
       "<tensorflow.python.client.session.Session at 0x29c465fa0>"
      ]
     },
     "execution_count": 6,
     "metadata": {},
     "output_type": "execute_result"
    }
   ],
   "source": [
    "config = tf.compat.v1.ConfigProto()\n",
    "config.gpu_options.allow_growth = True\n",
    "tf.compat.v1.Session(config = config)"
   ]
  },
  {
   "cell_type": "markdown",
   "id": "84c88fd4-a24d-4a28-8d13-3e232761362b",
   "metadata": {},
   "source": [
    "# Error: IOPub data rate exceeded"
   ]
  },
  {
   "cell_type": "markdown",
   "id": "086a9090-e313-45f1-9536-edf3ed3867c2",
   "metadata": {},
   "source": [
    "Step1: Enter `jupyter notebook --generate-config` in cmd. You can see a route of your gererated config file.  \n",
    "Step2: Open the file and find `iopub_data_rate_limit`. Delete the note and add more \"0\"s behind.  \n",
    "Step3: Restart jupyter notebook to apply the configuration.  "
   ]
  },
  {
   "cell_type": "markdown",
   "id": "04558f39-bd29-46bc-afee-73fc9b5c38c8",
   "metadata": {},
   "source": [
    "# Error: MPS backend out of memory  \n",
    "\n",
    "Disable the upper limi for memory allocations."
   ]
  },
  {
   "cell_type": "code",
   "execution_count": 7,
   "id": "8270fba2-0430-49a2-9838-7fe981ec6129",
   "metadata": {},
   "outputs": [
    {
     "name": "stdout",
     "output_type": "stream",
     "text": [
      "env: PYTORCH_MPS_HIGH_WATERMARK_RATIO=0.0\n"
     ]
    }
   ],
   "source": [
    "%env PYTORCH_MPS_HIGH_WATERMARK_RATIO = 0.0"
   ]
  }
 ],
 "metadata": {
  "kernelspec": {
   "display_name": "Python 3 (ipykernel)",
   "language": "python",
   "name": "python3"
  },
  "language_info": {
   "codemirror_mode": {
    "name": "ipython",
    "version": 3
   },
   "file_extension": ".py",
   "mimetype": "text/x-python",
   "name": "python",
   "nbconvert_exporter": "python",
   "pygments_lexer": "ipython3",
   "version": "3.9.18"
  }
 },
 "nbformat": 4,
 "nbformat_minor": 5
}
